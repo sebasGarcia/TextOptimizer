{
 "cells": [
  {
   "cell_type": "code",
   "execution_count": null,
   "metadata": {},
   "outputs": [],
   "source": [
    "from langdetect import detect\n",
    "\n",
    "sentence = \"De Minister van de Brusselse Hoofdstedelijke Regering\"\n",
    "\n",
    "print(detect(sentence))"
   ]
  },
  {
   "cell_type": "code",
   "execution_count": null,
   "metadata": {},
   "outputs": [],
   "source": [
    "from txtai.pipeline import Translation\n",
    "\n",
    "# Create translation model\n",
    "translate = Translation()\n",
    "\n"
   ]
  },
  {
   "cell_type": "code",
   "execution_count": null,
   "metadata": {},
   "outputs": [],
   "source": [
    "translation = translate(\"De Minister van de Brusselse Hoofdstedelijke Regering\", \"en\")\n",
    "translation"
   ]
  },
  {
   "cell_type": "code",
   "execution_count": 12,
   "metadata": {},
   "outputs": [],
   "source": [
    "#path = 'F:/TaxOptimizer_NLP_Pro/TaxOptimizer_NLP_Pro/text/url_num_'"
   ]
  },
  {
   "cell_type": "code",
   "execution_count": null,
   "metadata": {},
   "outputs": [],
   "source": [
    "#creat new path and traslate text to english\n",
    "import os\n",
    "path = 'F:/TaxOptimizer_NLP_Pro/TaxOptimizer_NLP_Pro/text_nl_cleaned2/'\n",
    "os.listdir(path)\n",
    "dir_list = os.listdir(path)\n",
    "path2 = 'F:/TaxOptimizer_NLP_Pro/TaxOptimizer_NLP_Pro/text_en/'\n",
    "\n",
    "\n",
    "for name in dir_list:\n",
    "    try:\n",
    "        input_path = path + name\n",
    "        output_path = path2 + name\n",
    "        print(input_path)\n",
    "        lines =[]\n",
    "        with open(input_path, encoding='ISO-8859-1') as f:\n",
    "            lines = f.readlines()\n",
    "\n",
    "            #translation = translate(contents, \"en\")\n",
    "            f.close()\n",
    "        with open(output_path, 'w', encoding='ISO-8859-1') as f: \n",
    "            for line in lines:\n",
    "                translation = translate(line, \"en\") \n",
    "                f.writelines(translation) \n",
    "    except:\n",
    "        pass"
   ]
  }
 ],
 "metadata": {
  "interpreter": {
   "hash": "5a356e9517e14dc2ad259a2123438b15b3972e1e2b3dbfde245c14a47e88b3a8"
  },
  "kernelspec": {
   "display_name": "Python 3.9.7 ('base')",
   "language": "python",
   "name": "python3"
  },
  "language_info": {
   "codemirror_mode": {
    "name": "ipython",
    "version": 3
   },
   "file_extension": ".py",
   "mimetype": "text/x-python",
   "name": "python",
   "nbconvert_exporter": "python",
   "pygments_lexer": "ipython3",
   "version": "3.9.7"
  },
  "orig_nbformat": 4
 },
 "nbformat": 4,
 "nbformat_minor": 2
}
